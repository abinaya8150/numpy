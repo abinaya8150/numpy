{
 "cells": [
  {
   "cell_type": "markdown",
   "id": "f293a53f",
   "metadata": {},
   "source": [
    "# install number library"
   ]
  },
  {
   "cell_type": "code",
   "execution_count": 1,
   "id": "d25c820c",
   "metadata": {},
   "outputs": [
    {
     "name": "stdout",
     "output_type": "stream",
     "text": [
      "Requirement already satisfied: numpy in c:\\users\\admin\\anaconda3\\envs\\bscai2\\lib\\site-packages (1.25.2)\n",
      "Note: you may need to restart the kernel to use updated packages.\n"
     ]
    }
   ],
   "source": [
    "pip install numpy"
   ]
  },
  {
   "cell_type": "markdown",
   "id": "39f09f31",
   "metadata": {},
   "source": [
    "# numpy array operation"
   ]
  },
  {
   "cell_type": "markdown",
   "id": "21ef87de",
   "metadata": {},
   "source": [
    "# import numpy"
   ]
  },
  {
   "cell_type": "code",
   "execution_count": 2,
   "id": "63179f70",
   "metadata": {},
   "outputs": [],
   "source": [
    "import numpy as np"
   ]
  },
  {
   "cell_type": "code",
   "execution_count": 3,
   "id": "7cb2ecf4",
   "metadata": {},
   "outputs": [
    {
     "data": {
      "text/plain": [
       "'1.25.2'"
      ]
     },
     "execution_count": 3,
     "metadata": {},
     "output_type": "execute_result"
    }
   ],
   "source": [
    "np.version.version"
   ]
  },
  {
   "cell_type": "markdown",
   "id": "d980f498",
   "metadata": {},
   "source": [
    "# one dimensional array"
   ]
  },
  {
   "cell_type": "markdown",
   "id": "6ecfd471",
   "metadata": {},
   "source": [
    "# 1.syntax: numpy.array([values])"
   ]
  },
  {
   "cell_type": "markdown",
   "id": "fbe54217",
   "metadata": {},
   "source": [
    "# 2.values: element in the array"
   ]
  },
  {
   "cell_type": "markdown",
   "id": "8678fce4",
   "metadata": {},
   "source": [
    " first_array=np.array([1,2,3,4,5])"
   ]
  },
  {
   "cell_type": "code",
   "execution_count": 7,
   "id": "cd2ec444",
   "metadata": {},
   "outputs": [
    {
     "name": "stdout",
     "output_type": "stream",
     "text": [
      "[1 2 3 4 5]\n"
     ]
    }
   ],
   "source": [
    "print(first_array)"
   ]
  },
  {
   "cell_type": "markdown",
   "id": "76f0d02a",
   "metadata": {},
   "source": [
    "# 2D ARRAY"
   ]
  },
  {
   "cell_type": "code",
   "execution_count": 9,
   "id": "5c8a7996",
   "metadata": {
    "scrolled": false
   },
   "outputs": [
    {
     "name": "stdout",
     "output_type": "stream",
     "text": [
      "[[4 5 6]\n",
      " [7 8 9]]\n"
     ]
    }
   ],
   "source": [
    "second_array=np.array([(4,5,6),(7,8,9)])\n",
    "print(second_array)"
   ]
  },
  {
   "cell_type": "markdown",
   "id": "a16df637",
   "metadata": {},
   "source": [
    "# 3D ARRAY"
   ]
  },
  {
   "cell_type": "code",
   "execution_count": 10,
   "id": "38882c7c",
   "metadata": {},
   "outputs": [
    {
     "name": "stdout",
     "output_type": "stream",
     "text": [
      "[[[10 20 30]\n",
      "  [40 50 60]\n",
      "  [70 80 90]\n",
      "  [25 35 47]]]\n"
     ]
    }
   ],
   "source": [
    "number=np.array([[(10,20,30),(40,50,60),(70,80,90),(25,35,47,)]])\n",
    "print(number)"
   ]
  },
  {
   "cell_type": "markdown",
   "id": "cd835581",
   "metadata": {},
   "source": [
    "# array of zero\n",
    "#creating array with zero"
   ]
  },
  {
   "cell_type": "code",
   "execution_count": 11,
   "id": "c6d6966e",
   "metadata": {},
   "outputs": [
    {
     "name": "stdout",
     "output_type": "stream",
     "text": [
      "0\n"
     ]
    }
   ],
   "source": [
    "num=np.array(0)\n",
    "print(num)"
   ]
  },
  {
   "cell_type": "code",
   "execution_count": 13,
   "id": "16c963cd",
   "metadata": {
    "scrolled": true
   },
   "outputs": [
    {
     "name": "stdout",
     "output_type": "stream",
     "text": [
      "[[0. 0. 0. 0.]\n",
      " [0. 0. 0. 0.]\n",
      " [0. 0. 0. 0.]\n",
      " [0. 0. 0. 0.]]\n"
     ]
    }
   ],
   "source": [
    "num1=np.zeros((4,4))\n",
    "print(num1)"
   ]
  },
  {
   "cell_type": "code",
   "execution_count": 14,
   "id": "bd4bf0db",
   "metadata": {},
   "outputs": [
    {
     "name": "stdout",
     "output_type": "stream",
     "text": [
      "[[1. 1. 1. 1.]\n",
      " [1. 1. 1. 1.]\n",
      " [1. 1. 1. 1.]\n",
      " [1. 1. 1. 1.]]\n"
     ]
    }
   ],
   "source": [
    "num1=np.ones((4,4))\n",
    "print(num1)"
   ]
  },
  {
   "cell_type": "code",
   "execution_count": 22,
   "id": "cb188a86",
   "metadata": {
    "scrolled": false
   },
   "outputs": [
    {
     "name": "stdout",
     "output_type": "stream",
     "text": [
      "[ 1.          1.49494949  1.98989899  2.48484848  2.97979798  3.47474747\n",
      "  3.96969697  4.46464646  4.95959596  5.45454545  5.94949495  6.44444444\n",
      "  6.93939394  7.43434343  7.92929293  8.42424242  8.91919192  9.41414141\n",
      "  9.90909091 10.4040404  10.8989899  11.39393939 11.88888889 12.38383838\n",
      " 12.87878788 13.37373737 13.86868687 14.36363636 14.85858586 15.35353535\n",
      " 15.84848485 16.34343434 16.83838384 17.33333333 17.82828283 18.32323232\n",
      " 18.81818182 19.31313131 19.80808081 20.3030303  20.7979798  21.29292929\n",
      " 21.78787879 22.28282828 22.77777778 23.27272727 23.76767677 24.26262626\n",
      " 24.75757576 25.25252525 25.74747475 26.24242424 26.73737374 27.23232323\n",
      " 27.72727273 28.22222222 28.71717172 29.21212121 29.70707071 30.2020202\n",
      " 30.6969697  31.19191919 31.68686869 32.18181818 32.67676768 33.17171717\n",
      " 33.66666667 34.16161616 34.65656566 35.15151515 35.64646465 36.14141414\n",
      " 36.63636364 37.13131313 37.62626263 38.12121212 38.61616162 39.11111111\n",
      " 39.60606061 40.1010101  40.5959596  41.09090909 41.58585859 42.08080808\n",
      " 42.57575758 43.07070707 43.56565657 44.06060606 44.55555556 45.05050505\n",
      " 45.54545455 46.04040404 46.53535354 47.03030303 47.52525253 48.02020202\n",
      " 48.51515152 49.01010101 49.50505051 50.        ]\n"
     ]
    }
   ],
   "source": [
    "abi=np.linspace(1,50,100)\n",
    "print(abi)"
   ]
  },
  {
   "cell_type": "code",
   "execution_count": 30,
   "id": "9198cdf0",
   "metadata": {
    "scrolled": true
   },
   "outputs": [
    {
     "name": "stdout",
     "output_type": "stream",
     "text": [
      "[[1. 1.]\n",
      " [1. 1.]]\n"
     ]
    }
   ],
   "source": [
    "subash=np.ones([2,2])\n",
    "print(subash)"
   ]
  },
  {
   "cell_type": "code",
   "execution_count": 25,
   "id": "8d5fe776",
   "metadata": {
    "scrolled": true
   },
   "outputs": [
    {
     "name": "stdout",
     "output_type": "stream",
     "text": [
      "[[20 40]\n",
      " [70 60]]\n"
     ]
    }
   ],
   "source": [
    "kani=np.array([(20,40),(70,60)])\n",
    "print(kani)"
   ]
  },
  {
   "cell_type": "code",
   "execution_count": 27,
   "id": "91885ea3",
   "metadata": {},
   "outputs": [
    {
     "name": "stdout",
     "output_type": "stream",
     "text": [
      "[[80  4  6]\n",
      " [79 67 33]\n",
      " [55 88 62]]\n"
     ]
    }
   ],
   "source": [
    "abi=np.array([(80,4,6),(79,67,33),(55,88,62)])\n",
    "print(abi)"
   ]
  },
  {
   "cell_type": "markdown",
   "id": "e1f65fd5",
   "metadata": {},
   "source": [
    "# definition ***transpose interchange the row and coloums"
   ]
  },
  {
   "cell_type": "code",
   "execution_count": 32,
   "id": "efe5b788",
   "metadata": {},
   "outputs": [
    {
     "name": "stdout",
     "output_type": "stream",
     "text": [
      "[[20 70]\n",
      " [40 60]]\n"
     ]
    }
   ],
   "source": [
    "matrix_transpose=np.transpose(kani)\n",
    "print(matrix_transpose)"
   ]
  },
  {
   "cell_type": "markdown",
   "id": "b820dba6",
   "metadata": {},
   "source": [
    "# ravel using a single dimensional array"
   ]
  },
  {
   "cell_type": "code",
   "execution_count": 33,
   "id": "51f594cf",
   "metadata": {},
   "outputs": [
    {
     "data": {
      "text/plain": [
       "array([20, 70, 40, 60])"
      ]
     },
     "execution_count": 33,
     "metadata": {},
     "output_type": "execute_result"
    }
   ],
   "source": [
    "matrix_transpose.ravel()"
   ]
  },
  {
   "cell_type": "markdown",
   "id": "e8ca7207",
   "metadata": {},
   "source": [
    "# reshape is change values in the list"
   ]
  },
  {
   "cell_type": "code",
   "execution_count": 46,
   "id": "150fa649",
   "metadata": {
    "scrolled": false
   },
   "outputs": [
    {
     "data": {
      "text/plain": [
       "array([[1., 1.],\n",
       "       [1., 1.]])"
      ]
     },
     "execution_count": 46,
     "metadata": {},
     "output_type": "execute_result"
    }
   ],
   "source": [
    "subash.reshape(2,2)"
   ]
  },
  {
   "cell_type": "code",
   "execution_count": 40,
   "id": "6a5eb60a",
   "metadata": {
    "scrolled": false
   },
   "outputs": [
    {
     "data": {
      "text/plain": [
       "array([[80,  4,  6, 79, 67, 33, 55, 88, 62]])"
      ]
     },
     "execution_count": 40,
     "metadata": {},
     "output_type": "execute_result"
    }
   ],
   "source": [
    "abi.reshape(1,9)"
   ]
  },
  {
   "cell_type": "code",
   "execution_count": 47,
   "id": "5dcb64ce",
   "metadata": {},
   "outputs": [
    {
     "data": {
      "text/plain": [
       "array([[0.62860083, 0.74337559, 0.12269547],\n",
       "       [0.01170744, 0.40748036, 0.74019765],\n",
       "       [0.30105242, 0.40422679, 0.5351076 ]])"
      ]
     },
     "execution_count": 47,
     "metadata": {},
     "output_type": "execute_result"
    }
   ],
   "source": [
    "np.random.random((3,3))"
   ]
  },
  {
   "cell_type": "code",
   "execution_count": null,
   "id": "187b2860",
   "metadata": {},
   "outputs": [],
   "source": []
  }
 ],
 "metadata": {
  "kernelspec": {
   "display_name": "Python 3 (ipykernel)",
   "language": "python",
   "name": "python3"
  },
  "language_info": {
   "codemirror_mode": {
    "name": "ipython",
    "version": 3
   },
   "file_extension": ".py",
   "mimetype": "text/x-python",
   "name": "python",
   "nbconvert_exporter": "python",
   "pygments_lexer": "ipython3",
   "version": "3.9.17"
  }
 },
 "nbformat": 4,
 "nbformat_minor": 5
}
